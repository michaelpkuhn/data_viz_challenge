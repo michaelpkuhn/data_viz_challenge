{
 "cells": [
  {
   "cell_type": "code",
   "execution_count": 1,
   "metadata": {},
   "outputs": [],
   "source": [
    "# import modules\n",
    "# these will bring in other python packages to help us analyze and visualize the data\n",
    "\n",
    "import pandas as pd # data analysis package\n",
    "import seaborn as sns # data visualization package\n",
    "import json\n",
    "pd.options.display.float_format = '{:.2}'.format"
   ]
  },
  {
   "cell_type": "code",
   "execution_count": 2,
   "metadata": {},
   "outputs": [],
   "source": [
    "# set url variable to csv data in Github\n",
    "url = \"https://raw.githubusercontent.com/swatland610/data_viz_challenge/main/data/2021_chicago_budget_appropriations.csv\"\n",
    "\n",
    "# read data at url, bring it into a data table (DataFrame)\n",
    "budget_appropriations = pd.read_csv(url)"
   ]
  },
  {
   "cell_type": "code",
   "execution_count": 4,
   "metadata": {},
   "outputs": [
    {
     "output_type": "execute_result",
     "data": {
      "text/plain": [
       "     FUND TYPE FUND CODE                 FUND DESCRIPTION  DEPARTMENT NUMBER  \\\n",
       "2076     LOCAL       100                   CORPORATE FUND                 99   \n",
       "2046     LOCAL       100                   CORPORATE FUND                 99   \n",
       "3264     LOCAL       740              O HARE REVENUE FUND                 99   \n",
       "2302     LOCAL       200                       WATER FUND                 99   \n",
       "2504     LOCAL       300                     VEHICLE FUND                 99   \n",
       "...        ...       ...                              ...                ...   \n",
       "3273     LOCAL       740              O HARE REVENUE FUND                 99   \n",
       "1673     LOCAL       100                   CORPORATE FUND                 59   \n",
       "3064     LOCAL       681   MUNICIPAL ANNUNITY AND BENEFIT                 99   \n",
       "3068     LOCAL       683  POLICEMEN'S ANNUITY AND BENEFIT                 99   \n",
       "1615     LOCAL       100                   CORPORATE FUND                 57   \n",
       "\n",
       "     DEPARTMENT DESCRIPTION APPROPRIATION AUTHORITY  \\\n",
       "2076        FINANCE GENERAL                    2005   \n",
       "2046        FINANCE GENERAL                    2005   \n",
       "3264        FINANCE GENERAL                    2005   \n",
       "2302        FINANCE GENERAL                    2005   \n",
       "2504        FINANCE GENERAL                    2005   \n",
       "...                     ...                     ...   \n",
       "3273        FINANCE GENERAL                    2005   \n",
       "1673                    CFD                    2005   \n",
       "3064        FINANCE GENERAL                    2005   \n",
       "3068        FINANCE GENERAL                    2005   \n",
       "1615                    CPD                    1005   \n",
       "\n",
       "     APPROPRIATION AUTHORITY DESCRIPTION  APPROPRIATION ACCOUNT  \\\n",
       "2076                     FINANCE GENERAL                   9333   \n",
       "2046                     FINANCE GENERAL                     94   \n",
       "3264                     FINANCE GENERAL                     94   \n",
       "2302                     FINANCE GENERAL                     94   \n",
       "2504                     FINANCE GENERAL                     94   \n",
       "...                                  ...                    ...   \n",
       "3273                     FINANCE GENERAL                    902   \n",
       "1673             Chicago Fire Department                      5   \n",
       "3064                     FINANCE GENERAL                    976   \n",
       "3068                     FINANCE GENERAL                    976   \n",
       "1615           Chicago Police Department                      5   \n",
       "\n",
       "     APPROPRIATION ACCOUNT DESCRIPTION  2021 ORDINANCE (AMOUNT $)  \n",
       "2076               LESS CORPORATE FUND                  -25000000  \n",
       "2046   LAYOFFS / FURLOUGH DAYS SAVINGS                   -1304868  \n",
       "3264   LAYOFFS / FURLOUGH DAYS SAVINGS                    -199482  \n",
       "2302   LAYOFFS / FURLOUGH DAYS SAVINGS                    -144680  \n",
       "2504   LAYOFFS / FURLOUGH DAYS SAVINGS                    -100673  \n",
       "...                                ...                        ...  \n",
       "3273                 INTEREST ON BONDS                  451481468  \n",
       "1673   SALARIES AND WAGES - ON PAYROLL                  489623343  \n",
       "3064      EMPLOYEE ANNUITY AND BENEFIT                  576000000  \n",
       "3068      EMPLOYEE ANNUITY AND BENEFIT                  786793000  \n",
       "1615   SALARIES AND WAGES - ON PAYROLL                 1187494740  \n",
       "\n",
       "[3384 rows x 10 columns]"
      ],
      "text/html": "<div>\n<style scoped>\n    .dataframe tbody tr th:only-of-type {\n        vertical-align: middle;\n    }\n\n    .dataframe tbody tr th {\n        vertical-align: top;\n    }\n\n    .dataframe thead th {\n        text-align: right;\n    }\n</style>\n<table border=\"1\" class=\"dataframe\">\n  <thead>\n    <tr style=\"text-align: right;\">\n      <th></th>\n      <th>FUND TYPE</th>\n      <th>FUND CODE</th>\n      <th>FUND DESCRIPTION</th>\n      <th>DEPARTMENT NUMBER</th>\n      <th>DEPARTMENT DESCRIPTION</th>\n      <th>APPROPRIATION AUTHORITY</th>\n      <th>APPROPRIATION AUTHORITY DESCRIPTION</th>\n      <th>APPROPRIATION ACCOUNT</th>\n      <th>APPROPRIATION ACCOUNT DESCRIPTION</th>\n      <th>2021 ORDINANCE (AMOUNT $)</th>\n    </tr>\n  </thead>\n  <tbody>\n    <tr>\n      <th>2076</th>\n      <td>LOCAL</td>\n      <td>100</td>\n      <td>CORPORATE FUND</td>\n      <td>99</td>\n      <td>FINANCE GENERAL</td>\n      <td>2005</td>\n      <td>FINANCE GENERAL</td>\n      <td>9333</td>\n      <td>LESS CORPORATE FUND</td>\n      <td>-25000000</td>\n    </tr>\n    <tr>\n      <th>2046</th>\n      <td>LOCAL</td>\n      <td>100</td>\n      <td>CORPORATE FUND</td>\n      <td>99</td>\n      <td>FINANCE GENERAL</td>\n      <td>2005</td>\n      <td>FINANCE GENERAL</td>\n      <td>94</td>\n      <td>LAYOFFS / FURLOUGH DAYS SAVINGS</td>\n      <td>-1304868</td>\n    </tr>\n    <tr>\n      <th>3264</th>\n      <td>LOCAL</td>\n      <td>740</td>\n      <td>O HARE REVENUE FUND</td>\n      <td>99</td>\n      <td>FINANCE GENERAL</td>\n      <td>2005</td>\n      <td>FINANCE GENERAL</td>\n      <td>94</td>\n      <td>LAYOFFS / FURLOUGH DAYS SAVINGS</td>\n      <td>-199482</td>\n    </tr>\n    <tr>\n      <th>2302</th>\n      <td>LOCAL</td>\n      <td>200</td>\n      <td>WATER FUND</td>\n      <td>99</td>\n      <td>FINANCE GENERAL</td>\n      <td>2005</td>\n      <td>FINANCE GENERAL</td>\n      <td>94</td>\n      <td>LAYOFFS / FURLOUGH DAYS SAVINGS</td>\n      <td>-144680</td>\n    </tr>\n    <tr>\n      <th>2504</th>\n      <td>LOCAL</td>\n      <td>300</td>\n      <td>VEHICLE FUND</td>\n      <td>99</td>\n      <td>FINANCE GENERAL</td>\n      <td>2005</td>\n      <td>FINANCE GENERAL</td>\n      <td>94</td>\n      <td>LAYOFFS / FURLOUGH DAYS SAVINGS</td>\n      <td>-100673</td>\n    </tr>\n    <tr>\n      <th>...</th>\n      <td>...</td>\n      <td>...</td>\n      <td>...</td>\n      <td>...</td>\n      <td>...</td>\n      <td>...</td>\n      <td>...</td>\n      <td>...</td>\n      <td>...</td>\n      <td>...</td>\n    </tr>\n    <tr>\n      <th>3273</th>\n      <td>LOCAL</td>\n      <td>740</td>\n      <td>O HARE REVENUE FUND</td>\n      <td>99</td>\n      <td>FINANCE GENERAL</td>\n      <td>2005</td>\n      <td>FINANCE GENERAL</td>\n      <td>902</td>\n      <td>INTEREST ON BONDS</td>\n      <td>451481468</td>\n    </tr>\n    <tr>\n      <th>1673</th>\n      <td>LOCAL</td>\n      <td>100</td>\n      <td>CORPORATE FUND</td>\n      <td>59</td>\n      <td>CFD</td>\n      <td>2005</td>\n      <td>Chicago Fire Department</td>\n      <td>5</td>\n      <td>SALARIES AND WAGES - ON PAYROLL</td>\n      <td>489623343</td>\n    </tr>\n    <tr>\n      <th>3064</th>\n      <td>LOCAL</td>\n      <td>681</td>\n      <td>MUNICIPAL ANNUNITY AND BENEFIT</td>\n      <td>99</td>\n      <td>FINANCE GENERAL</td>\n      <td>2005</td>\n      <td>FINANCE GENERAL</td>\n      <td>976</td>\n      <td>EMPLOYEE ANNUITY AND BENEFIT</td>\n      <td>576000000</td>\n    </tr>\n    <tr>\n      <th>3068</th>\n      <td>LOCAL</td>\n      <td>683</td>\n      <td>POLICEMEN'S ANNUITY AND BENEFIT</td>\n      <td>99</td>\n      <td>FINANCE GENERAL</td>\n      <td>2005</td>\n      <td>FINANCE GENERAL</td>\n      <td>976</td>\n      <td>EMPLOYEE ANNUITY AND BENEFIT</td>\n      <td>786793000</td>\n    </tr>\n    <tr>\n      <th>1615</th>\n      <td>LOCAL</td>\n      <td>100</td>\n      <td>CORPORATE FUND</td>\n      <td>57</td>\n      <td>CPD</td>\n      <td>1005</td>\n      <td>Chicago Police Department</td>\n      <td>5</td>\n      <td>SALARIES AND WAGES - ON PAYROLL</td>\n      <td>1187494740</td>\n    </tr>\n  </tbody>\n</table>\n<p>3384 rows × 10 columns</p>\n</div>"
     },
     "metadata": {},
     "execution_count": 4
    }
   ],
   "source": [
    "budget_appropriations.sort_values('2021 ORDINANCE (AMOUNT $)').head()"
   ]
  },
  {
   "cell_type": "code",
   "execution_count": 137,
   "metadata": {},
   "outputs": [
    {
     "output_type": "execute_result",
     "data": {
      "text/plain": [
       "13522521000"
      ]
     },
     "metadata": {},
     "execution_count": 137
    }
   ],
   "source": [
    "budget_appropriations[\"2021 ORDINANCE (AMOUNT $)\"].sum()"
   ]
  },
  {
   "cell_type": "code",
   "execution_count": 11,
   "metadata": {},
   "outputs": [],
   "source": [
    "df = budget_appropriations.sort_values(dept, ignore_index=True)\n"
   ]
  },
  {
   "cell_type": "code",
   "execution_count": 119,
   "metadata": {},
   "outputs": [],
   "source": [
    "def nest_data(df, nest_order: list):\n",
    "    final_json = {'name': 'departments', 'children':[]}\n",
    "    nest_order.append('2021 ORDINANCE (AMOUNT $)')\n",
    "    df = df[nest_order]\n",
    "    df_ls = [df]\n",
    "    for col in nest_order:\n",
    "        if col != nest_order[-2]:\n",
    "            df_ls = data_runner(df_ls, col)\n",
    "        else:\n",
    "            result = process_dfs(df_ls)\n",
    "            return result\n",
    "\n",
    "def data_runner(df_ls, column):\n",
    "    new_df_ls = list()\n",
    "    for d in df_ls:\n",
    "        col_value_ls = d[column].unique()\n",
    "        ls = [d.loc[d[column]==value] for value in col_value_ls]\n",
    "        new_df_ls.extend(ls)\n",
    "    \n",
    "    return new_df_ls\n",
    "\n",
    "def process_dfs(df_ls):\n",
    "    final_ls = list()\n",
    "    for df in df_ls:\n",
    "        col_n = df.shape[1]\n",
    "        parents = [df.iloc[0, i] for i in range(col_n-2)]\n",
    "        child = df.iloc[:, -2:]\n",
    "        child_sum = child.groupby('APPROPRIATION ACCOUNT DESCRIPTION', as_index=False).sum()\n",
    "        children_ls = [{\"name\":t._1,\"value\":t._2} for t in child_sum.itertuples()]\n",
    "        children_dict = {\"name\":parents[-1], \"children\":children_ls}\n",
    "        children_dict = {\"name\":parents[-2], \"children\":[children_dict]}\n",
    "        final_ls.append(children_dict)\n",
    "    return final_ls\n",
    "\n"
   ]
  },
  {
   "cell_type": "code",
   "execution_count": 133,
   "metadata": {},
   "outputs": [
    {
     "output_type": "execute_result",
     "data": {
      "text/plain": [
       "     DEPARTMENT DESCRIPTION APPROPRIATION AUTHORITY DESCRIPTION  \\\n",
       "2530        FINANCE GENERAL                     FINANCE GENERAL   \n",
       "2531        FINANCE GENERAL                     FINANCE GENERAL   \n",
       "2532        FINANCE GENERAL                     FINANCE GENERAL   \n",
       "2533        FINANCE GENERAL                     FINANCE GENERAL   \n",
       "2534        FINANCE GENERAL                     FINANCE GENERAL   \n",
       "...                     ...                                 ...   \n",
       "2861        FINANCE GENERAL                     FINANCE GENERAL   \n",
       "2862        FINANCE GENERAL                     FINANCE GENERAL   \n",
       "2863        FINANCE GENERAL                     FINANCE GENERAL   \n",
       "2864        FINANCE GENERAL                     FINANCE GENERAL   \n",
       "2865        FINANCE GENERAL                     FINANCE GENERAL   \n",
       "\n",
       "                      APPROPRIATION ACCOUNT DESCRIPTION  \\\n",
       "2530                       UNEMPLOYMENT INSURANCE CLAIM   \n",
       "2531                                       HMO PREMIUMS   \n",
       "2532  For the Costs of Claims and Administration for...   \n",
       "2533                         CITY DEFERRED COMPENSATION   \n",
       "2534                           REIMB - PENSION PAYMENTS   \n",
       "...                                                 ...   \n",
       "2861                          FOR ANNUAL PAYMENT TO CTA   \n",
       "2862                               DENTAL PLAN PREMIUMS   \n",
       "2863                                MEDICAL CARE CLAIMS   \n",
       "2864                       UNEMPLOYMENT INSURANCE CLAIM   \n",
       "2865                              WORKERS' COMPENSATION   \n",
       "\n",
       "      2021 ORDINANCE (AMOUNT $)  \n",
       "2530                      15063  \n",
       "2531                    1465918  \n",
       "2532                    4612464  \n",
       "2533                        211  \n",
       "2534                     134954  \n",
       "...                         ...  \n",
       "2861                    3000000  \n",
       "2862                     252028  \n",
       "2863                      99768  \n",
       "2864                     174278  \n",
       "2865                    6372000  \n",
       "\n",
       "[336 rows x 4 columns]"
      ],
      "text/html": "<div>\n<style scoped>\n    .dataframe tbody tr th:only-of-type {\n        vertical-align: middle;\n    }\n\n    .dataframe tbody tr th {\n        vertical-align: top;\n    }\n\n    .dataframe thead th {\n        text-align: right;\n    }\n</style>\n<table border=\"1\" class=\"dataframe\">\n  <thead>\n    <tr style=\"text-align: right;\">\n      <th></th>\n      <th>DEPARTMENT DESCRIPTION</th>\n      <th>APPROPRIATION AUTHORITY DESCRIPTION</th>\n      <th>APPROPRIATION ACCOUNT DESCRIPTION</th>\n      <th>2021 ORDINANCE (AMOUNT $)</th>\n    </tr>\n  </thead>\n  <tbody>\n    <tr>\n      <th>2530</th>\n      <td>FINANCE GENERAL</td>\n      <td>FINANCE GENERAL</td>\n      <td>UNEMPLOYMENT INSURANCE CLAIM</td>\n      <td>15063</td>\n    </tr>\n    <tr>\n      <th>2531</th>\n      <td>FINANCE GENERAL</td>\n      <td>FINANCE GENERAL</td>\n      <td>HMO PREMIUMS</td>\n      <td>1465918</td>\n    </tr>\n    <tr>\n      <th>2532</th>\n      <td>FINANCE GENERAL</td>\n      <td>FINANCE GENERAL</td>\n      <td>For the Costs of Claims and Administration for...</td>\n      <td>4612464</td>\n    </tr>\n    <tr>\n      <th>2533</th>\n      <td>FINANCE GENERAL</td>\n      <td>FINANCE GENERAL</td>\n      <td>CITY DEFERRED COMPENSATION</td>\n      <td>211</td>\n    </tr>\n    <tr>\n      <th>2534</th>\n      <td>FINANCE GENERAL</td>\n      <td>FINANCE GENERAL</td>\n      <td>REIMB - PENSION PAYMENTS</td>\n      <td>134954</td>\n    </tr>\n    <tr>\n      <th>...</th>\n      <td>...</td>\n      <td>...</td>\n      <td>...</td>\n      <td>...</td>\n    </tr>\n    <tr>\n      <th>2861</th>\n      <td>FINANCE GENERAL</td>\n      <td>FINANCE GENERAL</td>\n      <td>FOR ANNUAL PAYMENT TO CTA</td>\n      <td>3000000</td>\n    </tr>\n    <tr>\n      <th>2862</th>\n      <td>FINANCE GENERAL</td>\n      <td>FINANCE GENERAL</td>\n      <td>DENTAL PLAN PREMIUMS</td>\n      <td>252028</td>\n    </tr>\n    <tr>\n      <th>2863</th>\n      <td>FINANCE GENERAL</td>\n      <td>FINANCE GENERAL</td>\n      <td>MEDICAL CARE CLAIMS</td>\n      <td>99768</td>\n    </tr>\n    <tr>\n      <th>2864</th>\n      <td>FINANCE GENERAL</td>\n      <td>FINANCE GENERAL</td>\n      <td>UNEMPLOYMENT INSURANCE CLAIM</td>\n      <td>174278</td>\n    </tr>\n    <tr>\n      <th>2865</th>\n      <td>FINANCE GENERAL</td>\n      <td>FINANCE GENERAL</td>\n      <td>WORKERS' COMPENSATION</td>\n      <td>6372000</td>\n    </tr>\n  </tbody>\n</table>\n<p>336 rows × 4 columns</p>\n</div>"
     },
     "metadata": {},
     "execution_count": 133
    }
   ],
   "source": [
    "fg = nest_df['DEPARTMENT DESCRIPTION'] == 'FINANCE GENERAL'\n",
    "nest_df[fg]\n",
    "#nest_df['DEPARTMENT DESCRIPTION'].value_counts()"
   ]
  },
  {
   "cell_type": "code",
   "execution_count": 120,
   "metadata": {},
   "outputs": [],
   "source": [
    "nest_order = ['DEPARTMENT DESCRIPTION', 'APPROPRIATION AUTHORITY DESCRIPTION', 'APPROPRIATION ACCOUNT DESCRIPTION']\n",
    "test_ls = nest_data(df, nest_order)"
   ]
  },
  {
   "cell_type": "code",
   "execution_count": 134,
   "metadata": {},
   "outputs": [
    {
     "output_type": "stream",
     "name": "stderr",
     "text": [
      "<ipython-input-134-533d34c0ff32>:11: UserWarning: Boolean Series key will be reindexed to match DataFrame index.\n  auth_df = dept_df[auth_bool]\n"
     ]
    }
   ],
   "source": [
    "nest_df = df[nest_order]\n",
    "depts = df[nest_order].iloc[:,0].unique()\n",
    "final_ls = []\n",
    "for dept in depts:\n",
    "    dept_ls = []\n",
    "    dept_bool = nest_df.iloc[:,0] == dept\n",
    "    dept_df = nest_df[dept_bool]\n",
    "    dept_auth = dept_df.iloc[:,1].unique()\n",
    "    for auth in dept_auth:\n",
    "        auth_bool = nest_df.iloc[:,1] == auth\n",
    "        auth_df = dept_df[auth_bool]\n",
    "        child_df = auth_df.iloc[:, -2:]\n",
    "        child_sum = child_df.groupby('APPROPRIATION ACCOUNT DESCRIPTION', as_index=False).sum()\n",
    "        child_ls = [{\"name\":t._1,\"level\": \"Account Description\",\"value\":t._2} for t in child_sum.itertuples()]\n",
    "        auth_dict = {'name':auth, 'level':'Appropriation Authority', 'children':child_ls}\n",
    "        dept_ls.append(auth_dict)\n",
    "    dept_dict = {'name':dept, 'level':'Department', 'children': dept_ls}\n",
    "    final_ls.append(dept_dict)\n",
    "final_dict = {'name': 'budget', 'level':'Overall', 'children':final_ls}"
   ]
  },
  {
   "cell_type": "code",
   "execution_count": 135,
   "metadata": {},
   "outputs": [],
   "source": [
    "import json\n",
    "\n",
    "with open('nested.json', 'w') as f:\n",
    "    json.dump(final_dict, f)"
   ]
  },
  {
   "cell_type": "code",
   "execution_count": 124,
   "metadata": {},
   "outputs": [
    {
     "output_type": "execute_result",
     "data": {
      "text/plain": [
       "'[{\"DEPARTMENT DESCRIPTION\":\"AIS\",\"APPROPRIATION AUTHORITY DESCRIPTION\":\"BUREAU OF FACILITY MANAGEMEN'"
      ]
     },
     "metadata": {},
     "execution_count": 124
    }
   ],
   "source": [
    "rn = test_df.rename(columns={'APPROPRIATION ACCOUNT DESCRIPTION':'name', '2021 ORDINANCE (AMOUNT $)':'size'})\n",
    "rn.to_json(orient='records')[:100]"
   ]
  },
  {
   "cell_type": "code",
   "execution_count": 11,
   "metadata": {},
   "outputs": [],
   "source": [
    "dept_desc = budget_appropriations.groupby('DEPARTMENT DESCRIPTION').sum()['2021 ORDINANCE (AMOUNT $)'].sort_values()"
   ]
  },
  {
   "cell_type": "code",
   "execution_count": 40,
   "metadata": {},
   "outputs": [
    {
     "output_type": "execute_result",
     "data": {
      "text/plain": [
       "DEPARTMENT DESCRIPTION\n",
       "LAC               1.4e-05\n",
       "POLICE BOARD      4.2e-05\n",
       "ETHICS            6.4e-05\n",
       "CCHR              0.00021\n",
       "CTO                0.0003\n",
       "DHR                0.0005\n",
       "CACC              0.00052\n",
       "MOPD              0.00057\n",
       "DOAH              0.00057\n",
       "DPS               0.00063\n",
       "CLERK             0.00078\n",
       "OIG               0.00081\n",
       "MO                0.00084\n",
       "COPA              0.00098\n",
       "ELECTIONS          0.0014\n",
       "DCASE              0.0019\n",
       "BACP                0.002\n",
       "COUNCIL            0.0021\n",
       "DOB                0.0025\n",
       "LAW                 0.003\n",
       "DOF                0.0063\n",
       "DPD                0.0072\n",
       "CPL                0.0082\n",
       "OBM                0.0094\n",
       "OEMC               0.0099\n",
       "PSA                  0.01\n",
       "DOH                 0.014\n",
       "DSS                 0.021\n",
       "DWM                 0.024\n",
       "AIS                 0.033\n",
       "CDPH                0.038\n",
       "CFD                 0.055\n",
       "CDOT                0.057\n",
       "DFSS                0.058\n",
       "CDA                 0.084\n",
       "CPD                  0.13\n",
       "FINANCE GENERAL      0.42\n",
       "Name: 2021 ORDINANCE (AMOUNT $), dtype: float64"
      ]
     },
     "metadata": {},
     "execution_count": 40
    }
   ],
   "source": [
    "dept_desc/dept_desc.sum()"
   ]
  },
  {
   "cell_type": "code",
   "execution_count": null,
   "metadata": {},
   "outputs": [],
   "source": []
  }
 ],
 "metadata": {
  "kernelspec": {
   "name": "python3",
   "display_name": "Python 3.8.5 64-bit (conda)",
   "metadata": {
    "interpreter": {
     "hash": "1069a05e44c2652dfca512fe2a9572bc78d7076fd0ad2ea71f27c4bc70a0e70f"
    }
   }
  },
  "language_info": {
   "codemirror_mode": {
    "name": "ipython",
    "version": 3
   },
   "file_extension": ".py",
   "mimetype": "text/x-python",
   "name": "python",
   "nbconvert_exporter": "python",
   "pygments_lexer": "ipython3",
   "version": "3.8.5-final"
  }
 },
 "nbformat": 4,
 "nbformat_minor": 4
}