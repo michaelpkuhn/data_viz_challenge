{
 "cells": [
  {
   "cell_type": "code",
   "execution_count": 1,
   "metadata": {},
   "outputs": [],
   "source": [
    "# import modules\n",
    "# these will bring in other python packages to help us analyze and visualize the data\n",
    "\n",
    "import pandas as pd # data analysis package\n",
    "import seaborn as sns # data visualization package"
   ]
  },
  {
   "cell_type": "code",
   "execution_count": 2,
   "metadata": {},
   "outputs": [],
   "source": [
    "# set url variable to csv data in Github\n",
    "url = \"https://raw.githubusercontent.com/swatland610/data_viz_challenge/main/data/2021_chicago_budget_appropriations.csv\"\n",
    "\n",
    "# read data at url, bring it into a data table (DataFrame)\n",
    "budget_appropriations = pd.read_csv(url)"
   ]
  },
  {
   "cell_type": "code",
   "execution_count": 3,
   "metadata": {},
   "outputs": [
    {
     "name": "stdout",
     "output_type": "stream",
     "text": [
      "<class 'pandas.core.frame.DataFrame'>\n",
      "RangeIndex: 3384 entries, 0 to 3383\n",
      "Data columns (total 10 columns):\n",
      " #   Column                               Non-Null Count  Dtype \n",
      "---  ------                               --------------  ----- \n",
      " 0   FUND TYPE                            3384 non-null   object\n",
      " 1   FUND CODE                            3384 non-null   object\n",
      " 2   FUND DESCRIPTION                     3384 non-null   object\n",
      " 3   DEPARTMENT NUMBER                    3384 non-null   int64 \n",
      " 4   DEPARTMENT DESCRIPTION               3384 non-null   object\n",
      " 5   APPROPRIATION AUTHORITY              3384 non-null   object\n",
      " 6   APPROPRIATION AUTHORITY DESCRIPTION  3384 non-null   object\n",
      " 7   APPROPRIATION ACCOUNT                3384 non-null   int64 \n",
      " 8   APPROPRIATION ACCOUNT DESCRIPTION    3384 non-null   object\n",
      " 9   2021 ORDINANCE (AMOUNT $)            3384 non-null   int64 \n",
      "dtypes: int64(3), object(7)\n",
      "memory usage: 264.5+ KB\n"
     ]
    }
   ],
   "source": [
    "# check out the size of the table & what columns were brought in\n",
    "budget_appropriations.info()"
   ]
  },
  {
   "cell_type": "code",
   "execution_count": 4,
   "metadata": {},
   "outputs": [
    {
     "data": {
      "image/png": "[encoded data removed]",
      "text/plain": [
       "<Figure size 432x288 with 1 Axes>"
      ]
     },
     "metadata": {
      "needs_background": "light"
     },
     "output_type": "display_data"
    }
   ],
   "source": [
    "# let's make a quick visualization that depicts amount budgeted by department\n",
    "ax = sns.barplot(x = \"DEPARTMENT NUMBER\", y = \"2021 ORDINANCE (AMOUNT $)\", data = budget_appropriations,\n",
    "                ci=None)"
   ]
  },
  {
   "cell_type": "code",
   "execution_count": 5,
   "metadata": {},
   "outputs": [],
   "source": [
    "# this is pretty hard to read and not really meaningful at all. \n",
    "# But I'll leave you at this point for you to make it your own. Feel free to reach out for help! \n",
    "\n",
    "# If you want to learn more about seaborn, check out the docs here: https://seaborn.pydata.org/index.html"
   ]
  }
 ],
 "metadata": {
  "kernelspec": {
   "display_name": "Python 3.8.2 64-bit",
   "language": "python",
   "name": "python38264bit3ef51e4033a143b48d6e3985ffb71731"
  },
  "language_info": {
   "codemirror_mode": {
    "name": "ipython",
    "version": 3
   },
   "file_extension": ".py",
   "mimetype": "text/x-python",
   "name": "python",
   "nbconvert_exporter": "python",
   "pygments_lexer": "ipython3",
   "version": "3.8.6"
  }
 },
 "nbformat": 4,
 "nbformat_minor": 4
}
